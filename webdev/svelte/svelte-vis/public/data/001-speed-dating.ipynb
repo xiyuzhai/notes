{
 "cells": [
  {
   "cell_type": "code",
   "execution_count": 1,
   "metadata": {},
   "outputs": [],
   "source": [
    "import pandas as pd"
   ]
  },
  {
   "cell_type": "code",
   "execution_count": 2,
   "metadata": {},
   "outputs": [],
   "source": [
    "d = pd.read_csv('SpeedDating.csv', encoding='latin')\n",
    "\n",
    "d = d[d.wave==21]"
   ]
  },
  {
   "cell_type": "code",
   "execution_count": 6,
   "metadata": {},
   "outputs": [],
   "source": [
    "d = d[['iid', 'pid', 'gender', 'dec_o']]\n",
    "\n",
    "nodes = {}\n",
    "matches = {}\n",
    "\n",
    "for _, row in d.iterrows():\n",
    "    iid = int(row.iid)\n",
    "    pid = int(row.pid)\n",
    "    nodes[iid] = {\n",
    "        'index': iid,\n",
    "        'gender': 'FM'[int(row.gender)]\n",
    "    }\n",
    "    \n",
    "    matches[iid, pid] = (int(row.gender), bool(row.dec_o))\n",
    "\n",
    "nodes = list(nodes.values())\n",
    "iid_to_id = {m['index']: i for i, m in enumerate(nodes)}\n",
    "\n",
    "edges = []\n",
    "for (id1, id2), (gender, m1) in matches.items():\n",
    "    if id1 > id2:\n",
    "        continue\n",
    "    \n",
    "    (_, m2) = matches[id2, id1]\n",
    "    \n",
    "    status = None\n",
    "    if m1 and m2:\n",
    "        status = 'Mutual'\n",
    "    elif (not m1) and (not m2):\n",
    "        status = 'NoMatch'\n",
    "    elif bool(m1) == bool(gender):\n",
    "        status = 'FMatch'\n",
    "    else:\n",
    "        status = 'MMatch'\n",
    "    \n",
    "    if status != 'NoMatch':\n",
    "        edges.append({\n",
    "            'source': iid_to_id[id1],\n",
    "            'target': iid_to_id[id2],\n",
    "            'status': status,\n",
    "        })"
   ]
  },
  {
   "cell_type": "code",
   "execution_count": 7,
   "metadata": {},
   "outputs": [],
   "source": [
    "from json import dump"
   ]
  },
  {
   "cell_type": "code",
   "execution_count": 8,
   "metadata": {},
   "outputs": [],
   "source": [
    "with open('SpeedDating.json', 'w') as fh:\n",
    "    dump(\n",
    "        {\n",
    "            'nodes': nodes,\n",
    "            'edges': edges\n",
    "        }, fh, indent=2)"
   ]
  },
  {
   "cell_type": "code",
   "execution_count": null,
   "metadata": {},
   "outputs": [],
   "source": []
  }
 ],
 "metadata": {
  "kernelspec": {
   "display_name": "Python 3",
   "language": "python",
   "name": "python3"
  },
  "language_info": {
   "codemirror_mode": {
    "name": "ipython",
    "version": 3
   },
   "file_extension": ".py",
   "mimetype": "text/x-python",
   "name": "python",
   "nbconvert_exporter": "python",
   "pygments_lexer": "ipython3",
   "version": "3.8.5"
  }
 },
 "nbformat": 4,
 "nbformat_minor": 4
}
