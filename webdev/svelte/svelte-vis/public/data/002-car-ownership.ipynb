{
 "cells": [
  {
   "cell_type": "code",
   "execution_count": 1,
   "metadata": {},
   "outputs": [],
   "source": [
    "import pandas as pd"
   ]
  },
  {
   "cell_type": "code",
   "execution_count": 2,
   "metadata": {},
   "outputs": [],
   "source": [
    "data = '''Rank \tState \tVehicles per 1000 People\n",
    "1 \tNew York \t539\n",
    "2 \tNew Jersey \t665\n",
    "3 \tMaryland \t690\n",
    "4 \tMississippi \t692\n",
    "5 \tNorth Carolina \t790\n",
    "6 \tFlorida \t796\n",
    "7 \tTexas \t797\n",
    "8 \tPennsylvania \t798\n",
    "9 \tNevada \t803\n",
    "10 \tMassachusetts \t820\n",
    "11 \tArizona \t823\n",
    "12 \tIllinois \t825\n",
    "13 \tGeorgia \t829\n",
    "14 \tRhode Island \t829\n",
    "15 \tMaine \t830\n",
    "16 \tKansas \t830\n",
    "17 \tDistrict of Columbia \t830\n",
    "18 \tMissouri \t830\n",
    "19 \tNew Hampshire \t830\n",
    "20 \tVirginia \t840\n",
    "21 \tKentucky \t840\n",
    "22 \tCalifornia \t840\n",
    "23 \tTennessee \t840\n",
    "24 \tSouth Carolina \t850\n",
    "25 \tOklahoma \t860\n",
    "26 \tConnecticut \t860\n",
    "27 \tWisconsin \t860\n",
    "28 \tUtah \t870\n",
    "29 \tWashington \t870\n",
    "30 \tMichigan \t870\n",
    "31 \tMinnesota \t870\n",
    "32 \tHawaii \t872\n",
    "33 \tWest Virginia \t876\n",
    "34 \tNew Mexico \t877\n",
    "35 \tOregon \t896\n",
    "36 \tLouisiana \t910\n",
    "37 \tVermont \t910\n",
    "38 \tOhio \t910\n",
    "39 \tIndiana \t914\n",
    "40 \tColorado \t919\n",
    "41 \tArkansas \t931\n",
    "42 \tSouth Dakota \t950\n",
    "43 \tDelaware \t950\n",
    "44 \tAlaska \t960\n",
    "45 \tAlabama \t1,030\n",
    "46 \tNebraska \t1,046\n",
    "47 \tIowa \t1,050\n",
    "48 \tNorth Dakota \t1,080\n",
    "49 \tMontana \t1,120\n",
    "50 \tIdaho \t1,122\n",
    "51 \tWyoming \t1,140'''"
   ]
  },
  {
   "cell_type": "code",
   "execution_count": 5,
   "metadata": {},
   "outputs": [],
   "source": [
    "import io"
   ]
  },
  {
   "cell_type": "code",
   "execution_count": 10,
   "metadata": {},
   "outputs": [
    {
     "data": {
      "text/plain": [
       "Index(['Rank ', 'State ', 'Vehicles per 1000 People'], dtype='object')"
      ]
     },
     "execution_count": 10,
     "metadata": {},
     "output_type": "execute_result"
    }
   ],
   "source": [
    "pd.read_csv(io.StringIO(data), delimiter='\\t').columns"
   ]
  },
  {
   "cell_type": "code",
   "execution_count": 22,
   "metadata": {},
   "outputs": [],
   "source": [
    "d = pd.read_csv(io.StringIO(data), delimiter='\\t')\n",
    "d = d.set_index(d['State '].str.strip())['Vehicles per 1000 People'].map(lambda d: int(d.replace(',','')))"
   ]
  },
  {
   "cell_type": "code",
   "execution_count": 23,
   "metadata": {},
   "outputs": [],
   "source": [
    "d.to_json('VehiclesPer1000.json', indent=2)"
   ]
  },
  {
   "cell_type": "code",
   "execution_count": null,
   "metadata": {},
   "outputs": [],
   "source": []
  }
 ],
 "metadata": {
  "kernelspec": {
   "display_name": "Python 3",
   "language": "python",
   "name": "python3"
  },
  "language_info": {
   "codemirror_mode": {
    "name": "ipython",
    "version": 3
   },
   "file_extension": ".py",
   "mimetype": "text/x-python",
   "name": "python",
   "nbconvert_exporter": "python",
   "pygments_lexer": "ipython3",
   "version": "3.8.5"
  }
 },
 "nbformat": 4,
 "nbformat_minor": 4
}
